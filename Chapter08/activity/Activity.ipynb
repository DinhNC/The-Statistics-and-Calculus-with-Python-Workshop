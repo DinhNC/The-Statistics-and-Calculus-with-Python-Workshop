{
 "cells": [
  {
   "cell_type": "markdown",
   "metadata": {},
   "source": [
    "# Activity - Chapter 8\n",
    "In this activity we explore the possibility of using the normal distribution to understand the daily returns of the stock price. By the end of the activity you should have an opinion of whether the normal distribution is an appropriate model for daily returns of stocks.\n",
    "\n",
    "In this example we will use the daily information of the Microsoft stock provided by yahoo finance. "
   ]
  },
  {
   "cell_type": "code",
   "execution_count": 24,
   "metadata": {},
   "outputs": [],
   "source": [
    "import pandas as pd\n",
    "import numpy as np\n",
    "import scipy.stats as stats\n",
    "import matplotlib.pyplot as plt\n",
    "\n",
    "%matplotlib inline"
   ]
  },
  {
   "cell_type": "markdown",
   "metadata": {},
   "source": [
    "1.\tUsing pandas, read the csv file named “MSFT.csv” from the data folder. Name your dataframe \"msft\""
   ]
  },
  {
   "cell_type": "code",
   "execution_count": 5,
   "metadata": {},
   "outputs": [],
   "source": [
    "msft = pd.read_csv('../data/MSFT.csv')"
   ]
  },
  {
   "cell_type": "markdown",
   "metadata": {},
   "source": [
    "2.\tOptionally, rename the columns so they are easy to work with"
   ]
  },
  {
   "cell_type": "code",
   "execution_count": 6,
   "metadata": {},
   "outputs": [],
   "source": [
    "msft.rename(\n",
    "    columns=lambda x: x.lower().replace(' ', '_'),\n",
    "    inplace=True\n",
    ")"
   ]
  },
  {
   "cell_type": "markdown",
   "metadata": {},
   "source": [
    "3.\tTransform the date column to a proper datetime column"
   ]
  },
  {
   "cell_type": "code",
   "execution_count": 7,
   "metadata": {},
   "outputs": [],
   "source": [
    "msft['date'] = pd.to_datetime(msft['date'])"
   ]
  },
  {
   "cell_type": "markdown",
   "metadata": {},
   "source": [
    "4.\tSet the “Date” column as index of the dataframe"
   ]
  },
  {
   "cell_type": "code",
   "execution_count": 8,
   "metadata": {},
   "outputs": [],
   "source": [
    "msft.set_index('date', inplace = True)"
   ]
  },
  {
   "cell_type": "markdown",
   "metadata": {},
   "source": [
    "5.\tIn finance, the daily returns of a stock are defined as the percentage change of the daily closing price. Create the \"returns\" column in the msft DataFrame by calculating the percent change of the Adj Close column. Use the pct_change Series pandas method."
   ]
  },
  {
   "cell_type": "code",
   "execution_count": 9,
   "metadata": {},
   "outputs": [],
   "source": [
    "msft['returns'] = msft['adj_close'].pct_change()"
   ]
  },
  {
   "cell_type": "markdown",
   "metadata": {},
   "source": [
    "6.\tRestrict the analysis period to the dates between 2014-01-01 and 2018-12-31 (inclusive)"
   ]
  },
  {
   "cell_type": "code",
   "execution_count": 10,
   "metadata": {},
   "outputs": [],
   "source": [
    "start_date = '2014-01-01'\n",
    "end_date = '2018-12-31'\n",
    "msft = msft.loc[start_date: end_date]"
   ]
  },
  {
   "cell_type": "markdown",
   "metadata": {},
   "source": [
    "7.\tUse a histogram to visualize the distribution of the returns column, use 40 bins. Does it look like a Normal distribution?"
   ]
  },
  {
   "cell_type": "code",
   "execution_count": null,
   "metadata": {},
   "outputs": [],
   "source": [
    "msft['returns'].hist(ec='k', bins=40);"
   ]
  },
  {
   "cell_type": "markdown",
   "metadata": {},
   "source": [
    "8.\tCalculate the descriptive statistics of the returns column"
   ]
  },
  {
   "cell_type": "code",
   "execution_count": 13,
   "metadata": {},
   "outputs": [
    {
     "data": {
      "text/plain": [
       "count    1258.000000\n",
       "mean        0.000996\n",
       "std         0.014591\n",
       "min        -0.092534\n",
       "25%        -0.005956\n",
       "50%         0.000651\n",
       "75%         0.007830\n",
       "max         0.104522\n",
       "Name: returns, dtype: float64"
      ]
     },
     "execution_count": 13,
     "metadata": {},
     "output_type": "execute_result"
    }
   ],
   "source": [
    "msft['returns'].describe()"
   ]
  },
  {
   "cell_type": "markdown",
   "metadata": {},
   "source": [
    "9.\tCreate a random variable named R_rv which will represent “The daily returns of the MSFT stock”, use the mean and standard deviation of the return column as the parameters for this distribution"
   ]
  },
  {
   "cell_type": "code",
   "execution_count": 17,
   "metadata": {},
   "outputs": [],
   "source": [
    "R_mean = msft['returns'].mean()\n",
    "R_std = msft['returns'].std()\n",
    "\n",
    "R_rv = stats.norm(\n",
    "    loc = R_mean,\n",
    "    scale = R_std\n",
    ")"
   ]
  },
  {
   "cell_type": "code",
   "execution_count": 32,
   "metadata": {},
   "outputs": [
    {
     "data": {
      "text/plain": [
       "0.0009959218960820999"
      ]
     },
     "execution_count": 32,
     "metadata": {},
     "output_type": "execute_result"
    }
   ],
   "source": [
    "R_rv.mean()"
   ]
  },
  {
   "cell_type": "markdown",
   "metadata": {},
   "source": [
    "10.\tPlot the probability distribution R_rv and the histogram of the actual data, use plt.hist() function with the parameter density=True so both the real data and the theoretical distribution appear in the same scale. "
   ]
  },
  {
   "cell_type": "code",
   "execution_count": null,
   "metadata": {},
   "outputs": [],
   "source": [
    "fig, ax = plt.subplots()\n",
    "\n",
    "ax.hist(\n",
    "    x = msft['returns'],\n",
    "    ec = 'k',\n",
    "    bins = 40,\n",
    "    density = True,\n",
    ");\n",
    "\n",
    "x_values = np.linspace(msft['returns'].min(), msft['returns'].max(), num=100)\n",
    "densities = R_rv.pdf(x_values)\n",
    "ax.plot(x_values, densities, color='r')\n",
    "ax.grid();"
   ]
  },
  {
   "cell_type": "markdown",
   "metadata": {},
   "source": [
    "11.\tAfter looking at the preceding plot: would you say that the Normal distribution provides an accurate model for the daily returns of the Microsoft stock? "
   ]
  },
  {
   "cell_type": "markdown",
   "metadata": {},
   "source": [
    "12.\tAdditional practice: repeat the above steps with the “PG.csv” which contains the information about the Procter and Gamble stock. "
   ]
  },
  {
   "cell_type": "code",
   "execution_count": null,
   "metadata": {},
   "outputs": [],
   "source": []
  }
 ],
 "metadata": {
  "kernelspec": {
   "display_name": "Python 3",
   "language": "python",
   "name": "python3"
  },
  "language_info": {
   "codemirror_mode": {
    "name": "ipython",
    "version": 3
   },
   "file_extension": ".py",
   "mimetype": "text/x-python",
   "name": "python",
   "nbconvert_exporter": "python",
   "pygments_lexer": "ipython3",
   "version": "3.7.5"
  }
 },
 "nbformat": 4,
 "nbformat_minor": 2
}
