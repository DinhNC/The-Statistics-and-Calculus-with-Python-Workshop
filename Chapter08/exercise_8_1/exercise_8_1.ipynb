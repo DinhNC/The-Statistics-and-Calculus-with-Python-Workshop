{
 "cells": [
  {
   "cell_type": "markdown",
   "metadata": {},
   "source": [
    "## 8.1.5 Exercise: sampling with replacement and without replacement "
   ]
  },
  {
   "cell_type": "markdown",
   "metadata": {},
   "source": [
    "In this exercise we will learn how to use random.choice  to produce random samples with and without replacement. "
   ]
  },
  {
   "cell_type": "code",
   "execution_count": 1,
   "metadata": {},
   "outputs": [],
   "source": [
    "import numpy as np"
   ]
  },
  {
   "cell_type": "markdown",
   "metadata": {},
   "source": [
    "1.\tCreate two lists containing the 4 different suits and the 13 different ranks in the set of standard cards"
   ]
  },
  {
   "cell_type": "code",
   "execution_count": 27,
   "metadata": {},
   "outputs": [],
   "source": [
    "suits = ['hearts', 'diamonds', 'spades', 'clubs']\n",
    "ranks = ['Ace', '2', '3', '4', '5', '6', '7', '8', '9', '10', 'Jack', 'Queen', 'King']\n",
    "cards = [rank + '-' + suit for rank in ranks for suit in suits]"
   ]
  },
  {
   "cell_type": "markdown",
   "metadata": {},
   "source": [
    "2.\tCreate a list, named “cards”, containing the 52 cards of the standard deck"
   ]
  },
  {
   "cell_type": "code",
   "execution_count": 81,
   "metadata": {
    "scrolled": true
   },
   "outputs": [
    {
     "name": "stdout",
     "output_type": "stream",
     "text": [
      "['10-hearts' 'Ace-hearts' 'King-hearts' '6-spades' '6-clubs']\n"
     ]
    }
   ],
   "source": [
    "print(np.random.choice(cards, size=5, replace=False))"
   ]
  },
  {
   "cell_type": "markdown",
   "metadata": {},
   "source": [
    "3.\tUse the np.random.choice function to draw a hand (5 cards) from the deck, use replace=False so each card gets selected only once:"
   ]
  },
  {
   "cell_type": "code",
   "execution_count": 82,
   "metadata": {},
   "outputs": [
    {
     "name": "stdout",
     "output_type": "stream",
     "text": [
      "['Jack-spades' 'Queen-clubs' '4-clubs' '7-clubs' '5-hearts']\n"
     ]
    }
   ],
   "source": [
    "print(np.random.choice(cards, size=5, replace=False)) "
   ]
  },
  {
   "cell_type": "markdown",
   "metadata": {},
   "source": [
    "4.\tNow create a function named “deal_hands” that returns two lists, each with five cards drawn from the same deck, use replace=False in the np.random.choice function. This function will perform sampling without replacement:"
   ]
  },
  {
   "cell_type": "code",
   "execution_count": 75,
   "metadata": {},
   "outputs": [],
   "source": [
    "def deal_hands():\n",
    "    drawn_cards = np.random.choice(cards, size=10, replace=False)\n",
    "    hand_1 = drawn_cards[:5].tolist()\n",
    "    hand_2 = drawn_cards[5:].tolist()\n",
    "    return hand_1, hand_2"
   ]
  },
  {
   "cell_type": "code",
   "execution_count": 76,
   "metadata": {},
   "outputs": [
    {
     "data": {
      "text/plain": [
       "(['9-spades', 'Ace-clubs', 'Queen-diamonds', '2-diamonds', '9-diamonds'],\n",
       " ['Jack-hearts', '8-clubs', '10-clubs', '4-spades', 'Queen-hearts'])"
      ]
     },
     "execution_count": 76,
     "metadata": {},
     "output_type": "execute_result"
    }
   ],
   "source": [
    "deal_hands()"
   ]
  },
  {
   "cell_type": "markdown",
   "metadata": {},
   "source": [
    "5.\tCreate a second function “deal_hands2” identical to the last one, but with the argument replace=True in the np.random.choice function. This function will perform sampling with replacement:"
   ]
  },
  {
   "cell_type": "code",
   "execution_count": 77,
   "metadata": {},
   "outputs": [],
   "source": [
    "def deal_hands2():\n",
    "    drawn_cards = np.random.choice(cards, size=10, replace=True)\n",
    "    hand_1 = drawn_cards[:5].tolist()\n",
    "    hand_2 = drawn_cards[5:].tolist()\n",
    "    return hand_1, hand_2"
   ]
  },
  {
   "cell_type": "markdown",
   "metadata": {},
   "source": [
    "6.\tFinally, run the following code: "
   ]
  },
  {
   "cell_type": "code",
   "execution_count": 80,
   "metadata": {},
   "outputs": [
    {
     "data": {
      "text/plain": [
       "(['Jack-hearts', '4-clubs', 'Queen-diamonds', '3-hearts', '6-spades'],\n",
       " ['Jack-clubs', '5-spades', '3-clubs', 'Jack-hearts', '2-clubs'])"
      ]
     },
     "execution_count": 80,
     "metadata": {},
     "output_type": "execute_result"
    }
   ],
   "source": [
    "np.random.seed(2)\n",
    "deal_hands2()"
   ]
  },
  {
   "cell_type": "code",
   "execution_count": null,
   "metadata": {},
   "outputs": [],
   "source": []
  },
  {
   "cell_type": "code",
   "execution_count": null,
   "metadata": {},
   "outputs": [],
   "source": []
  }
 ],
 "metadata": {
  "kernelspec": {
   "display_name": "Python 3",
   "language": "python",
   "name": "python3"
  },
  "language_info": {
   "codemirror_mode": {
    "name": "ipython",
    "version": 3
   },
   "file_extension": ".py",
   "mimetype": "text/x-python",
   "name": "python",
   "nbconvert_exporter": "python",
   "pygments_lexer": "ipython3",
   "version": "3.7.5"
  }
 },
 "nbformat": 4,
 "nbformat_minor": 2
}
