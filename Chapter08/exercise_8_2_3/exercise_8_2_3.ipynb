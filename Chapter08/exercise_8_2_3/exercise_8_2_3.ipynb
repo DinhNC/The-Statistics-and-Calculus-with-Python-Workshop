{
 "cells": [
  {
   "cell_type": "markdown",
   "metadata": {},
   "source": [
    "## 8.2.3 Exercise: using the binomial distribution in business"
   ]
  },
  {
   "cell_type": "code",
   "execution_count": 11,
   "metadata": {},
   "outputs": [],
   "source": [
    "import numpy as np\n",
    "import scipy.stats as stats\n",
    "import matplotlib.pyplot as plt\n",
    "%matplotlib inline"
   ]
  },
  {
   "cell_type": "markdown",
   "metadata": {},
   "source": [
    "4.\tUse the scipy.stats module to produce an instance of the Z random variable, name it Z_rv:"
   ]
  },
  {
   "cell_type": "code",
   "execution_count": 12,
   "metadata": {},
   "outputs": [],
   "source": [
    "# number of parts per box\n",
    "parts_per_box = 12\n",
    "\n",
    "Z_rv = stats.binom(\n",
    "    n = parts_per_box, \n",
    "    p = 0.04 # probability of defective piece (success)\n",
    ")"
   ]
  },
  {
   "cell_type": "markdown",
   "metadata": {},
   "source": [
    "5.\tPlot the probability mass function of Z:"
   ]
  },
  {
   "cell_type": "code",
   "execution_count": 13,
   "metadata": {},
   "outputs": [],
   "source": [
    "z_possible_values = np.arange(0, parts_per_box + 1)\n",
    "\n",
    "Z_probs = Z_rv.pmf(z_possible_values)\n",
    "\n",
    "fig, ax = plt.subplots()\n",
    "ax.bar(z_possible_values, Z_probs)\n",
    "ax.set_xticks(z_possible_values)\n",
    "ax.grid();"
   ]
  },
  {
   "cell_type": "code",
   "execution_count": null,
   "metadata": {},
   "outputs": [],
   "source": []
  }
 ],
 "metadata": {
  "kernelspec": {
   "display_name": "Python 3",
   "language": "python",
   "name": "python3"
  },
  "language_info": {
   "codemirror_mode": {
    "name": "ipython",
    "version": 3
   },
   "file_extension": ".py",
   "mimetype": "text/x-python",
   "name": "python",
   "nbconvert_exporter": "python",
   "pygments_lexer": "ipython3",
   "version": "3.7.5"
  }
 },
 "nbformat": 4,
 "nbformat_minor": 2
}
