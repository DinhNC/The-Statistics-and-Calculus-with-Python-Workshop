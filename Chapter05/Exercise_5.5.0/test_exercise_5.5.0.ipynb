{
 "cells": [
  {
   "cell_type": "code",
   "execution_count": 1,
   "metadata": {},
   "outputs": [
    {
     "name": "stdout",
     "output_type": "stream",
     "text": [
      "importing Jupyter notebook from Complex_numbers.ipynb\n",
      "Addition = (12.9+1j)\n",
      "Subtraction = (7.1+0.3333333333333333j)\n",
      "Multiplication = (28.77777777777778+5.266666666666666j)\n",
      "Division = (3.429391054896336-0.16429782240187768j)\n",
      "Addition = (1+1j)\n",
      "Subtraction = (1-1j)\n",
      "Multiplication = 1j\n",
      "Division = -1j\n",
      "Modulus = 5.0\n",
      "Phase = 0.9272952180016122\n",
      "Polar Coordinates = (5.0, 0.9272952180016122)\n",
      "Conjugate = (3-4j)\n",
      "Rectangular Coordinates = (3.0000000000000004+3.9999999999999996j)\n",
      "c = (0.785+0.5j)\n",
      "e**c = (1.9240180997548901+1.051095878400615j)\n",
      "tan(c) = (0.6477198040078461+0.7612013281694583j)\n",
      "sqrt(c) = (0.9262051859522487+0.26991859232894533j)\n",
      "11.5703 + j 20.0404\n",
      "23.1407 + j 2.8497\n"
     ]
    },
    {
     "name": "stderr",
     "output_type": "stream",
     "text": [
      "\n",
      "----------------------------------------------------------------------\n",
      "Ran 0 tests in 0.000s\n",
      "\n",
      "OK\n"
     ]
    }
   ],
   "source": [
    "import unittest\n",
    "import import_ipynb\n",
    "from Complex_numbers import *\n",
    "\n",
    "class Test(unittest.TestCase):\n",
    "    \n",
    "    def always_true(self):\n",
    "        self.assertEqual(1,1)\n",
    "\n",
    "if __name__ == '__main__':\n",
    "    unittest.main(argv=['first-arg-is-ignored'], exit=False)"
   ]
  },
  {
   "cell_type": "code",
   "execution_count": null,
   "metadata": {},
   "outputs": [],
   "source": []
  }
 ],
 "metadata": {
  "kernelspec": {
   "display_name": "Python 3",
   "language": "python",
   "name": "python3"
  },
  "language_info": {
   "codemirror_mode": {
    "name": "ipython",
    "version": 3
   },
   "file_extension": ".py",
   "mimetype": "text/x-python",
   "name": "python",
   "nbconvert_exporter": "python",
   "pygments_lexer": "ipython3",
   "version": "3.7.5"
  }
 },
 "nbformat": 4,
 "nbformat_minor": 2
}
