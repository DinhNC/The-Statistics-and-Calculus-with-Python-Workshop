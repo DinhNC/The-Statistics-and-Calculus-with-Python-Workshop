{
 "cells": [
  {
   "cell_type": "markdown",
   "metadata": {},
   "source": [
    "## Complex numbers"
   ]
  },
  {
   "cell_type": "code",
   "execution_count": 1,
   "metadata": {},
   "outputs": [],
   "source": [
    "def complex_operations2(c1, c2):\n",
    "    print('Addition =', c1 + c2)\n",
    "    print('Subtraction =', c1 - c2)\n",
    "    print('Multiplication =', c1 * c2)\n",
    "    print('Division =', c1 / c2)"
   ]
  },
  {
   "cell_type": "code",
   "execution_count": 2,
   "metadata": {},
   "outputs": [
    {
     "name": "stdout",
     "output_type": "stream",
     "text": [
      "Addition = (12.9+1j)\n",
      "Subtraction = (7.1+0.3333333333333333j)\n",
      "Multiplication = (28.77777777777778+5.266666666666666j)\n",
      "Division = (3.429391054896336-0.16429782240187768j)\n"
     ]
    }
   ],
   "source": [
    "complex_operations2(10+2j/3, 2.9+1j/3)"
   ]
  },
  {
   "cell_type": "code",
   "execution_count": 3,
   "metadata": {},
   "outputs": [
    {
     "name": "stdout",
     "output_type": "stream",
     "text": [
      "Addition = (1+1j)\n",
      "Subtraction = (1-1j)\n",
      "Multiplication = 1j\n",
      "Division = -1j\n"
     ]
    }
   ],
   "source": [
    "complex_operations2(1, 1j)"
   ]
  },
  {
   "cell_type": "code",
   "execution_count": 4,
   "metadata": {},
   "outputs": [
    {
     "name": "stdout",
     "output_type": "stream",
     "text": [
      "Modulus = 5.0\n",
      "Phase = 0.9272952180016122\n",
      "Polar Coordinates = (5.0, 0.9272952180016122)\n",
      "Conjugate = (3-4j)\n",
      "Rectangular Coordinates = (3.0000000000000004+3.9999999999999996j)\n",
      "\n",
      "\n"
     ]
    }
   ],
   "source": [
    "import cmath\n",
    "def complex_operations1(c):\n",
    "    modulus = abs(c)\n",
    "    phase = cmath.phase(c)\n",
    "    polar = cmath.polar(c)\n",
    "\n",
    "    print('Modulus =', modulus)\n",
    "    print('Phase =', phase)\n",
    "    print('Polar Coordinates =', polar)\n",
    "    print('Conjugate =',c.conjugate())\n",
    "    print('Rectangular Coordinates =', cmath.rect(modulus, phase))\n",
    "\n",
    "complex_operations1(3+4j)"
   ]
  },
  {
   "cell_type": "markdown",
   "metadata": {},
   "source": [
    "### Functions"
   ]
  },
  {
   "cell_type": "code",
   "execution_count": 5,
   "metadata": {},
   "outputs": [
    {
     "name": "stdout",
     "output_type": "stream",
     "text": [
      "c = (0.785+0.5j)\n",
      "e**c = (1.9240180997548901+1.051095878400615j)\n",
      "tan(c) = (0.6477198040078461+0.7612013281694583j)\n",
      "sqrt(c) = (0.9262051859522487+0.26991859232894533j)\n"
     ]
    }
   ],
   "source": [
    "c = 0.785 + 0.5j\n",
    "print('c =',c)\n",
    "print('e**c =', cmath.exp(c))\n",
    "print('tan(c) =', cmath.tan(c))\n",
    "print('sqrt(c) =', cmath.sqrt(c))"
   ]
  },
  {
   "cell_type": "code",
   "execution_count": 6,
   "metadata": {},
   "outputs": [
    {
     "name": "stdout",
     "output_type": "stream",
     "text": [
      "11.5703 + j 20.0404\n",
      "23.1407 + j 2.8497\n"
     ]
    }
   ],
   "source": [
    "import cmath, math\n",
    "\n",
    "pi = math.pi\n",
    "x = pi\n",
    "y = pi/3\n",
    "z = x + y*1j\n",
    "\n",
    "print(round(cmath.exp(z).real,4),'+ j', round(cmath.exp(z).imag, 4))\n",
    "print(round(math.exp(z.real),4),'+ j', round(math.exp(z.imag), 4))\n"
   ]
  }
 ],
 "metadata": {
  "kernelspec": {
   "display_name": "Python 3",
   "language": "python",
   "name": "python3"
  },
  "language_info": {
   "codemirror_mode": {
    "name": "ipython",
    "version": 3
   },
   "file_extension": ".py",
   "mimetype": "text/x-python",
   "name": "python",
   "nbconvert_exporter": "python",
   "pygments_lexer": "ipython3",
   "version": "3.7.5"
  }
 },
 "nbformat": 4,
 "nbformat_minor": 2
}
