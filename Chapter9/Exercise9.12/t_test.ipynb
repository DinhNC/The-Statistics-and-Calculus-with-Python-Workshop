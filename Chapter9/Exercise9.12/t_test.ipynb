{
 "cells": [
  {
   "cell_type": "code",
   "execution_count": 1,
   "metadata": {},
   "outputs": [
    {
     "name": "stdout",
     "output_type": "stream",
     "text": [
      "large sample\n",
      "Sample mean: 50.909694256198875\n",
      "P Value = 0.3742167728418093\n",
      "Results are insignificant.  Do Not Reject the Null\n",
      "P Value = 0.46478449567065694\n",
      "Results are insignificant.  Do Not Reject the Null\n",
      "P Value = 0.0\n",
      "Results are significant.  Reject the Null\n"
     ]
    },
    {
     "data": {
      "text/plain": [
       "(10.70511946685447, 0.0)"
      ]
     },
     "execution_count": 1,
     "metadata": {},
     "output_type": "execute_result"
    }
   ],
   "source": [
    "import scipy.stats as st\n",
    "import numpy as np\n",
    "import pandas as pd\n",
    "import math as mt\n",
    "import statistics as stat\n",
    "import statsmodels.stats.weightstats as mod\n",
    "import statsmodels.stats.proportion as prop\n",
    "\n",
    "def t_test(sample, hypoth_value, sig_level, test_type):\n",
    "    sample_mean = stat.mean(sample)\n",
    "    sample_st_dev = stat.stdev(sample)\n",
    "    sample_size = len(sample)\n",
    "    test_statistic = (sample_mean - hypoth_value) / (sample_st_dev/(mt.sqrt(sample_size)))\n",
    "    if test_type == 'lower':\n",
    "        p_value = st.t.cdf(test_statistic,df=sample_size-1)\n",
    "    if test_type == 'upper':\n",
    "        p_value = 1 - st.t.cdf(test_statistic,df=sample_size-1)\n",
    "    if test_type == 'two':\n",
    "        p_value = 2 * (1 - st.t.cdf(abs(test_statistic), df=sample_size-1))\n",
    "    print(f'P Value = {p_value}')\n",
    "    if p_value < sig_level:\n",
    "        print(f'Results are significant.  Reject the Null')\n",
    "    else:\n",
    "        print(f'Results are insignificant.  Do Not Reject the Null')\n",
    "    return (test_statistic, p_value)\n",
    "\n",
    "# Randomly Sample from Normal Distribution mu=50 and st_dev = 10\n",
    "data1 = np.random.normal(50, 10, 100)\n",
    "\n",
    "#two-tailed test = Is the sample mean significantly different from 50?\n",
    "print('large sample')\n",
    "print(f'Sample mean: {stat.mean(data1)}')\n",
    "t_test(data1,50,0.05,'two')\n",
    "#lower tailed = Is the sample mean significantly lower than 51?\n",
    "t_test(data1,51,0.05,'lower')\n",
    "#upper tailed = is the sample mean significantly more than 40?\n",
    "t_test(data1,40,0.05,'upper')\n"
   ]
  },
  {
   "cell_type": "code",
   "execution_count": 2,
   "metadata": {},
   "outputs": [
    {
     "name": "stdout",
     "output_type": "stream",
     "text": [
      "small sample\n",
      "Sample mean: 50.909694256198875\n",
      "P Value = 0.3946307439001364\n",
      "Results are insignificant.  Do Not Reject the Null\n",
      "P Value = 0.13327561167073784\n",
      "Results are insignificant.  Do Not Reject the Null\n",
      "P Value = 0.03756231850721636\n",
      "Results are significant.  Reject the Null\n"
     ]
    },
    {
     "data": {
      "text/plain": [
       "(2.0116757836273784, 0.03756231850721636)"
      ]
     },
     "execution_count": 2,
     "metadata": {},
     "output_type": "execute_result"
    }
   ],
   "source": [
    "# Randomly Sample from Normal Distribution mu=50 and st_dev = 10\n",
    "data2 = np.random.normal(50, 10, 10)\n",
    "\n",
    "#two-tailed test = Is the sample mean significantly different from 50?\n",
    "print('small sample')\n",
    "print(f'Sample mean: {stat.mean(data1)}')\n",
    "t_test(data2,50,0.05,'two')\n",
    "#lower tailed = Is the sample mean significantly lower than 51?\n",
    "t_test(data2,51,0.05,'lower')\n",
    "#upper tailed = is the sample mean significantly more than 40?\n",
    "t_test(data2,40,0.05,'upper')\n"
   ]
  },
  {
   "cell_type": "code",
   "execution_count": null,
   "metadata": {},
   "outputs": [],
   "source": []
  }
 ],
 "metadata": {
  "kernelspec": {
   "display_name": "Python 3",
   "language": "python",
   "name": "python3"
  },
  "language_info": {
   "codemirror_mode": {
    "name": "ipython",
    "version": 3
   },
   "file_extension": ".py",
   "mimetype": "text/x-python",
   "name": "python",
   "nbconvert_exporter": "python",
   "pygments_lexer": "ipython3",
   "version": "3.7.4"
  }
 },
 "nbformat": 4,
 "nbformat_minor": 4
}
