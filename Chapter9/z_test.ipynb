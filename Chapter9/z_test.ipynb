{
 "cells": [
  {
   "cell_type": "code",
   "execution_count": 5,
   "metadata": {},
   "outputs": [],
   "source": [
    "import scipy.stats as st\n",
    "import numpy as np\n",
    "import pandas as pd\n",
    "import math as mt\n",
    "import statistics as stat\n",
    "import statsmodels.stats.weightstats as mod\n",
    "import statsmodels.stats.proportion as prop\n",
    "\n",
    "\n",
    "def z_test(sample, pop_st_dev, hypoth_value, sig_level, test_type):\n",
    "    sample_mean = stat.mean(sample)\n",
    "    sample_size = len(sample)\n",
    "    test_statistic = (sample_mean - hypoth_value) / (pop_st_dev / (mt.sqrt(sample_size)))\n",
    "    if test_type == 'lower':\n",
    "        p_value = st.norm.cdf(test_statistic)\n",
    "    if test_type == 'upper':\n",
    "        p_value = 1 - st.norm.cdf(test_statistic)\n",
    "    if test_type == 'two':\n",
    "        p_value = 2 * (1 - st.norm.cdf(abs(test_statistic)))\n",
    "    print(f'P Value = {p_value}')\n",
    "    if p_value < sig_level:\n",
    "        print(f'Results are significant.  Reject the Null')\n",
    "    else:\n",
    "        print(f'Results are insignificant.  Do Not Reject the Null')\n",
    "    return (test_statistic, p_value)\n"
   ]
  },
  {
   "cell_type": "code",
   "execution_count": 6,
   "metadata": {},
   "outputs": [
    {
     "name": "stdout",
     "output_type": "stream",
     "text": [
      "Sample mean: 14.84859211515552\n",
      "P Value = 1.9491001551418737e-16\n",
      "Results are significant.  Reject the Null\n"
     ]
    },
    {
     "data": {
      "text/plain": [
       "(-8.141683232851907, 1.9491001551418737e-16)"
      ]
     },
     "execution_count": 6,
     "metadata": {},
     "output_type": "execute_result"
    }
   ],
   "source": [
    "# 1 - Lower Tailed Test\n",
    "# Randomly Sample from Normal Distribution mu= and st_dev = 3\n",
    "data1 = np.random.normal(15, 1, 50)\n",
    "\n",
    "# Test to see if Mean is significantly less then 16\n",
    "print(f'Sample mean: {stat.mean(data1)}')\n",
    "z_test(data1,1,16,0.05,'lower')\n",
    "# most of the time, the null should be rejected"
   ]
  },
  {
   "cell_type": "code",
   "execution_count": 7,
   "metadata": {},
   "outputs": [
    {
     "name": "stdout",
     "output_type": "stream",
     "text": [
      "Sample mean: 14.84859211515552\n",
      "P Value = 9.838426739960937e-10\n",
      "Results are significant.  Reject the Null\n"
     ]
    },
    {
     "data": {
      "text/plain": [
       "(6.000452390879043, 9.838426739960937e-10)"
      ]
     },
     "execution_count": 7,
     "metadata": {},
     "output_type": "execute_result"
    }
   ],
   "source": [
    "#test to see if the mean is significantly more than 14\n",
    "print(f'Sample mean: {stat.mean(data1)}')\n",
    "z_test(data1,1,14,0.05,'upper')\n",
    "#most of the time the null should reject\n",
    "# we know that our sample typically has a mean less than 16 and greater than 14\n",
    "# this makes sense because our sample comes from a distribution where the mean is 15"
   ]
  },
  {
   "cell_type": "code",
   "execution_count": 8,
   "metadata": {},
   "outputs": [
    {
     "name": "stdout",
     "output_type": "stream",
     "text": [
      "Sample mean: 14.84859211515552\n",
      "P Value = 0.284342386701244\n",
      "Results are insignificant.  Do Not Reject the Null\n"
     ]
    },
    {
     "data": {
      "text/plain": [
       "(-1.0706154209864323, 0.284342386701244)"
      ]
     },
     "execution_count": 8,
     "metadata": {},
     "output_type": "execute_result"
    }
   ],
   "source": [
    "#test to see if the mean is significantly different than 15\n",
    "print(f'Sample mean: {stat.mean(data1)}')\n",
    "z_test(data1,1,15,0.05,'two')\n",
    "#most of the type we should not reject the null\n",
    "# makes sense because we know that 15 is the mean"
   ]
  },
  {
   "cell_type": "code",
   "execution_count": null,
   "metadata": {},
   "outputs": [],
   "source": []
  }
 ],
 "metadata": {
  "kernelspec": {
   "display_name": "Python 3",
   "language": "python",
   "name": "python3"
  },
  "language_info": {
   "codemirror_mode": {
    "name": "ipython",
    "version": 3
   },
   "file_extension": ".py",
   "mimetype": "text/x-python",
   "name": "python",
   "nbconvert_exporter": "python",
   "pygments_lexer": "ipython3",
   "version": "3.7.4"
  }
 },
 "nbformat": 4,
 "nbformat_minor": 4
}
