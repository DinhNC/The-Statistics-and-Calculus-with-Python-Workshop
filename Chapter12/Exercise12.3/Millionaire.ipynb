{
 "cells": [
  {
   "cell_type": "code",
   "execution_count": 9,
   "metadata": {},
   "outputs": [
    {
     "name": "stdout",
     "output_type": "stream",
     "text": [
      "22253.458496311334\n",
      "49521.64150470513\n",
      "110202.77938941623\n",
      "245239.2977320514\n",
      "545742.2533744735\n",
      "\n",
      "57.57260322570801\n",
      "\n",
      "10 22253.458496311334\n",
      "15 33196.803971077774\n",
      "20 49521.64150470513\n",
      "30 110202.77938941623\n",
      "40 245239.2977320514\n",
      "50 545742.2533744735\n",
      "60 1214465.2585152255\n",
      "\n",
      "57.57260322570801\n"
     ]
    }
   ],
   "source": [
    "def amount(p0,rate,t,comps):\n",
    "    \"\"\"Returns the amount after t\n",
    "    years starting at p0 and growing\n",
    "    at the given rate per year\n",
    "    compounded comps times per year\"\"\"\n",
    "    for i in range(int(t*comps)):\n",
    "        p0 += p0*rate/comps\n",
    "    return p0\n",
    "\n",
    "def average(a,b):\n",
    "    return (a+b)/2\n",
    "\n",
    "def bin_search(f,lower,upper,target):\n",
    "    for i in range(20):\n",
    "        avg = average(lower,upper)\n",
    "        #Be sure to change this line\n",
    "        #if the principal, rate or \n",
    "        #compounding changes:\n",
    "        guess = f(10000,0.08,avg,365)\n",
    "        if guess == target:\n",
    "            return guess\n",
    "        if guess > target:\n",
    "            upper = avg\n",
    "        else:\n",
    "            lower = avg\n",
    "    return avg\n",
    "\n",
    "for i in [10,20,30,40,50]:\n",
    "    print(amount(10000,0.08,i,365))\n",
    "\n",
    "print()\n",
    "print(bin_search(amount,50,100,1000000))\n",
    "print()\n",
    "for i in [10,15,20,30,40,50,60]:\n",
    "    print(i,amount(10000,0.08,i,365))\n",
    "print()\n",
    "print(bin_search(amount,50,60,1000000))"
   ]
  },
  {
   "cell_type": "code",
   "execution_count": null,
   "metadata": {},
   "outputs": [],
   "source": []
  }
 ],
 "metadata": {
  "kernelspec": {
   "display_name": "Python 3",
   "language": "python",
   "name": "python3"
  },
  "language_info": {
   "codemirror_mode": {
    "name": "ipython",
    "version": 3
   },
   "file_extension": ".py",
   "mimetype": "text/x-python",
   "name": "python",
   "nbconvert_exporter": "python",
   "pygments_lexer": "ipython3",
   "version": "3.7.3"
  }
 },
 "nbformat": 4,
 "nbformat_minor": 2
}
