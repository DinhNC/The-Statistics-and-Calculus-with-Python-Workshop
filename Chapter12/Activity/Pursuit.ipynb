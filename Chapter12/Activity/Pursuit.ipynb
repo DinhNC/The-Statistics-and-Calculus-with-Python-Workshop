{
 "cells": [
  {
   "cell_type": "code",
   "execution_count": 1,
   "metadata": {},
   "outputs": [
    {
     "name": "stdout",
     "output_type": "stream",
     "text": [
      "Y: 23.997299988652507\n"
     ]
    }
   ],
   "source": [
    "from math import sqrt, atan2,sin,cos\n",
    "\n",
    "def dist(x1,y1,x2,y2):\n",
    "    \"\"\"Returns distance from (x1,y1) to (x2,y2)\"\"\"\n",
    "    return sqrt((x1-x2)**2 + (y1-y2)**2)\n",
    "\n",
    "def towards(x1,y1,x2,y2):\n",
    "    \"\"\"Returns unit vector in [x,y] format from point\n",
    "    1 to point 2\"\"\"\n",
    "    dx,dy = x2-x1,y2-y1\n",
    "    angle = atan2(dy,dx)\n",
    "    return [cos(angle),sin(angle)]\n",
    "\n",
    "def chase():\n",
    "    predator_x,predator_y = 20,0\n",
    "    predator_v = 1.5 #prey is 1\n",
    "    prey_x,prey_y = 0,0\n",
    "    inc = 0.001\n",
    "    while dist(predator_x,predator_y,prey_x,prey_y) > 0.001:\n",
    "        prey_y += 1*inc\n",
    "        p_vec = towards(predator_x,predator_y,\n",
    "                        prey_x,prey_y)\n",
    "        predator_x += predator_v*p_vec[0]*inc\n",
    "        predator_y += predator_v*p_vec[1]*inc\n",
    "        #print(dist(predator_x,predator_y,prey_x,prey_y))\n",
    "    return predator_y\n",
    "\n",
    "y = chase()\n",
    "print(\"Y:\",y)\n"
   ]
  },
  {
   "cell_type": "code",
   "execution_count": null,
   "metadata": {},
   "outputs": [
    {
     "name": "stdout",
     "output_type": "stream",
     "text": [
      "y: 23.909971577576016\n"
     ]
    }
   ],
   "source": [
    "from turtle import *\n",
    "\n",
    "setworldcoordinates(-30,-30,40,40)\n",
    "\n",
    "#set up predator\n",
    "predator = Turtle()\n",
    "predator.color(\"red\")\n",
    "predator.penup()\n",
    "predator.setpos(20,0)\n",
    "predator.pendown()\n",
    "predator.speed(0)\n",
    "\n",
    "#set up prey\n",
    "prey = Turtle()\n",
    "prey.color(\"green\")\n",
    "prey.shape(\"turtle\")\n",
    "prey.setheading(90)\n",
    "prey.speed(0)\n",
    "\n",
    "def pursue():\n",
    "    inc = 0.05\n",
    "    while predator.distance(prey)>0.05:\n",
    "        #print predator.distance(prey)\n",
    "        predator.setheading(predator.towards(prey))\n",
    "        prey.fd(inc)\n",
    "        #prey.lt(.3)\n",
    "        predator.fd(1.5*inc)\n",
    "    print(\"y:\",predator.ycor())\n",
    "\n",
    "pursue()\n",
    "done()\n"
   ]
  },
  {
   "cell_type": "code",
   "execution_count": null,
   "metadata": {},
   "outputs": [],
   "source": []
  }
 ],
 "metadata": {
  "kernelspec": {
   "display_name": "Python 3",
   "language": "python",
   "name": "python3"
  },
  "language_info": {
   "codemirror_mode": {
    "name": "ipython",
    "version": 3
   },
   "file_extension": ".py",
   "mimetype": "text/x-python",
   "name": "python",
   "nbconvert_exporter": "python",
   "pygments_lexer": "ipython3",
   "version": "3.7.3"
  }
 },
 "nbformat": 4,
 "nbformat_minor": 2
}
