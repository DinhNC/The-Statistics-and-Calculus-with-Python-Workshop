{
 "cells": [
  {
   "cell_type": "code",
   "execution_count": 1,
   "metadata": {
    "scrolled": true
   },
   "outputs": [
    {
     "name": "stdout",
     "output_type": "stream",
     "text": [
      "0.5 1.5\n",
      "1.0 2.25\n",
      "1.5 3.375\n",
      "2.0 5.0625\n",
      "5.0625\n"
     ]
    }
   ],
   "source": [
    "def euler(x0,y0,target_x,stepsize):\n",
    "    x,y = x0,y0\n",
    "    while x<target_x:\n",
    "        slope = y #from diff eq\n",
    "        x += stepsize\n",
    "        y += stepsize*slope\n",
    "        print(x,y)\n",
    "    return y\n",
    "\n",
    "print(euler(0,1,2,0.5))\n",
    "\n",
    "# for n in [0.5**i for i in range(10)]:\n",
    "#     print(n,euler(0,1,2,n))\n"
   ]
  },
  {
   "cell_type": "code",
   "execution_count": null,
   "metadata": {},
   "outputs": [],
   "source": []
  }
 ],
 "metadata": {
  "kernelspec": {
   "display_name": "Python 3",
   "language": "python",
   "name": "python3"
  },
  "language_info": {
   "codemirror_mode": {
    "name": "ipython",
    "version": 3
   },
   "file_extension": ".py",
   "mimetype": "text/x-python",
   "name": "python",
   "nbconvert_exporter": "python",
   "pygments_lexer": "ipython3",
   "version": "3.7.3"
  }
 },
 "nbformat": 4,
 "nbformat_minor": 2
}
