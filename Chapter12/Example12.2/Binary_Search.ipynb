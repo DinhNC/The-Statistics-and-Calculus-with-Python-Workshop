{
 "cells": [
  {
   "cell_type": "code",
   "execution_count": 6,
   "metadata": {},
   "outputs": [
    {
     "data": {
      "text/plain": [
       "8030.904658737448"
      ]
     },
     "execution_count": 6,
     "metadata": {},
     "output_type": "execute_result"
    }
   ],
   "source": [
    "def amount(p0,rate,t,comps):\n",
    "    \"\"\"Returns the amount after t\n",
    "    years starting at p0 and growing\n",
    "    at the given rate per year\n",
    "    compounded comps times per year\"\"\"\n",
    "    for i in range(int(t*comps)):\n",
    "        p0 += p0*rate/comps\n",
    "    return p0\n",
    "\n",
    "# for i in range(1,6):\n",
    "#     print(i,amount(2000,0.055,i,12))\n",
    "\n",
    "# for i in [5,10,15,20,25,30]:\n",
    "#     print(i,amount(2000,0.055,i,12))\n",
    "\n",
    "#print(amount(2000,0.055,27.5,12))\n",
    "\n",
    "# def average(a,b):\n",
    "#     return (a+b)/2\n",
    "# print(amount(2000,0.055,average(25,27.5),12))\n",
    "\n",
    "def bin_search(f,lower,upper,target):\n",
    "    for i in range(20):\n",
    "        avg = average(lower,upper)\n",
    "        guess = f(2000,0.055,avg,12)\n",
    "        if guess == target:\n",
    "            return guess\n",
    "        if guess > target:\n",
    "            upper = avg\n",
    "        else:\n",
    "            lower = avg\n",
    "    return avg\n",
    "\n",
    "#bin_search(amount,25,30,8000)\n",
    "\n",
    "amount(2000,0.055,25.334,12)"
   ]
  },
  {
   "cell_type": "code",
   "execution_count": null,
   "metadata": {},
   "outputs": [],
   "source": []
  }
 ],
 "metadata": {
  "kernelspec": {
   "display_name": "Python 3",
   "language": "python",
   "name": "python3"
  },
  "language_info": {
   "codemirror_mode": {
    "name": "ipython",
    "version": 3
   },
   "file_extension": ".py",
   "mimetype": "text/x-python",
   "name": "python",
   "nbconvert_exporter": "python",
   "pygments_lexer": "ipython3",
   "version": "3.7.3"
  }
 },
 "nbformat": 4,
 "nbformat_minor": 2
}
