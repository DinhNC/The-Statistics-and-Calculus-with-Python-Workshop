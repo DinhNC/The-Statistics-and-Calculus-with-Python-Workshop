{
 "cells": [
  {
   "cell_type": "markdown",
   "metadata": {},
   "source": [
    "# Chapter 7 - Activity"
   ]
  },
  {
   "cell_type": "markdown",
   "metadata": {},
   "source": [
    "1.\tLoad the libraries we used in this chapter"
   ]
  },
  {
   "cell_type": "code",
   "execution_count": 3,
   "metadata": {},
   "outputs": [],
   "source": [
    "import pandas as pd\n",
    "import numpy as np\n",
    "#import matplotlib.pyplot as plt\n",
    "#import seaborn as sns\n",
    "\n",
    "# line to allow the plots to be showed in the Jupyter notebook\n",
    "#%matplotlib inline"
   ]
  },
  {
   "cell_type": "markdown",
   "metadata": {},
   "source": [
    "2.\tLoad the strategy games dataset"
   ]
  },
  {
   "cell_type": "code",
   "execution_count": 12,
   "metadata": {},
   "outputs": [],
   "source": [
    "games = pd.read_csv('../data/appstore_games.csv')"
   ]
  },
  {
   "cell_type": "markdown",
   "metadata": {},
   "source": [
    "3.\tPerform all the transformations we did in the first section of the chapter"
   ]
  },
  {
   "cell_type": "code",
   "execution_count": 13,
   "metadata": {},
   "outputs": [],
   "source": [
    "original_colums_dict = {x: x.lower().replace(' ','_') for x in games.columns}\n",
    "\n",
    "games.rename(\n",
    "    columns = original_colums_dict,\n",
    "    inplace = True\n",
    ")\n",
    "\n",
    "games.set_index(\n",
    "    keys = 'id',\n",
    "    inplace = True\n",
    ")\n",
    "\n",
    "games.drop(\n",
    "    columns = ['url', 'icon_url'],\n",
    "    inplace = True\n",
    ")\n",
    "\n",
    "games['original_release_date'] = pd.to_datetime(games['original_release_date'])\n",
    "games['current_version_release_date'] = pd.to_datetime(games['current_version_release_date'])\n",
    "\n",
    "games = games.loc[games['average_user_rating'].notnull()]\n",
    "\n",
    "games = games.loc[games['user_rating_count'] >= 30]"
   ]
  },
  {
   "cell_type": "markdown",
   "metadata": {},
   "source": [
    "4.\tPrint the dimensions of the dataset, you must have a DataFrame with 4311 rows and 15 columns"
   ]
  },
  {
   "cell_type": "code",
   "execution_count": 11,
   "metadata": {},
   "outputs": [
    {
     "data": {
      "text/plain": [
       "(4311, 15)"
      ]
     },
     "execution_count": 11,
     "metadata": {},
     "output_type": "execute_result"
    }
   ],
   "source": [
    "games.shape"
   ]
  },
  {
   "cell_type": "markdown",
   "metadata": {},
   "source": [
    "5.\tImpute the missing values in the languages column with the string “EN” to indicate that those games are available only in English"
   ]
  },
  {
   "cell_type": "code",
   "execution_count": 15,
   "metadata": {},
   "outputs": [],
   "source": [
    "games['languages'] = games['languages'].fillna('EN')"
   ]
  },
  {
   "cell_type": "markdown",
   "metadata": {},
   "source": [
    "6.\tCreate the variable “free_game” that has the value of “free” if the game has a price of 0 and “paid” if the price is above zero"
   ]
  },
  {
   "cell_type": "code",
   "execution_count": 16,
   "metadata": {},
   "outputs": [],
   "source": [
    "games['free_game'] = (games['price'] == 0).astype(int).map({0:'paid', 1:'free'})"
   ]
  },
  {
   "cell_type": "markdown",
   "metadata": {},
   "source": [
    "7.\tCreate the variable “multilingual” that has the values of “monolingual” if the language column only one language string, and “multilingual” if the language column has at least 2 language strings"
   ]
  },
  {
   "cell_type": "code",
   "execution_count": 17,
   "metadata": {},
   "outputs": [],
   "source": [
    "number_of_languages = games['languages'].str.split(',').apply(lambda x: len(x))\n",
    "games['multilingual'] = number_of_languages == 1\n",
    "games['multilingual'] = games['multilingual'].astype(int).map({0:'multilingual', 1:'monolingual'})"
   ]
  },
  {
   "cell_type": "markdown",
   "metadata": {},
   "source": [
    "8.\tCreate one variable named \"price_language\" that contains the four combinations from the two variables created in the last step (free-monolingual, free-multilingual, paid-monolingual, paid-multilingual)"
   ]
  },
  {
   "cell_type": "code",
   "execution_count": 27,
   "metadata": {},
   "outputs": [],
   "source": [
    "games['price_language'] = games['free_game'] + '-' + games['multilingual']"
   ]
  },
  {
   "cell_type": "markdown",
   "metadata": {},
   "source": [
    "9.\tCalculate how many observation we have of each type in the price_language variable"
   ]
  },
  {
   "cell_type": "code",
   "execution_count": 28,
   "metadata": {},
   "outputs": [
    {
     "data": {
      "text/plain": [
       "free-monolingual     10553\n",
       "free-multilingual     3659\n",
       "paid-monolingual      2073\n",
       "paid-multilingual      722\n",
       "Name: price_language, dtype: int64"
      ]
     },
     "execution_count": 28,
     "metadata": {},
     "output_type": "execute_result"
    }
   ],
   "source": [
    "games['price_language'].value_counts()"
   ]
  },
  {
   "cell_type": "code",
   "execution_count": 31,
   "metadata": {},
   "outputs": [
    {
     "data": {
      "text/html": [
       "<div>\n",
       "<style scoped>\n",
       "    .dataframe tbody tr th:only-of-type {\n",
       "        vertical-align: middle;\n",
       "    }\n",
       "\n",
       "    .dataframe tbody tr th {\n",
       "        vertical-align: top;\n",
       "    }\n",
       "\n",
       "    .dataframe thead th {\n",
       "        text-align: right;\n",
       "    }\n",
       "</style>\n",
       "<table border=\"1\" class=\"dataframe\">\n",
       "  <thead>\n",
       "    <tr style=\"text-align: right;\">\n",
       "      <th></th>\n",
       "      <th>count</th>\n",
       "      <th>mean</th>\n",
       "      <th>std</th>\n",
       "      <th>min</th>\n",
       "      <th>25%</th>\n",
       "      <th>50%</th>\n",
       "      <th>75%</th>\n",
       "      <th>max</th>\n",
       "    </tr>\n",
       "    <tr>\n",
       "      <th>price_language</th>\n",
       "      <th></th>\n",
       "      <th></th>\n",
       "      <th></th>\n",
       "      <th></th>\n",
       "      <th></th>\n",
       "      <th></th>\n",
       "      <th></th>\n",
       "      <th></th>\n",
       "    </tr>\n",
       "  </thead>\n",
       "  <tbody>\n",
       "    <tr>\n",
       "      <th>free-monolingual</th>\n",
       "      <td>4262.0</td>\n",
       "      <td>4.053965</td>\n",
       "      <td>0.783632</td>\n",
       "      <td>1.0</td>\n",
       "      <td>3.5</td>\n",
       "      <td>4.5</td>\n",
       "      <td>4.5</td>\n",
       "      <td>5.0</td>\n",
       "    </tr>\n",
       "    <tr>\n",
       "      <th>free-multilingual</th>\n",
       "      <td>2063.0</td>\n",
       "      <td>4.106883</td>\n",
       "      <td>0.659991</td>\n",
       "      <td>1.0</td>\n",
       "      <td>4.0</td>\n",
       "      <td>4.5</td>\n",
       "      <td>4.5</td>\n",
       "      <td>5.0</td>\n",
       "    </tr>\n",
       "    <tr>\n",
       "      <th>paid-monolingual</th>\n",
       "      <td>799.0</td>\n",
       "      <td>3.974969</td>\n",
       "      <td>0.798651</td>\n",
       "      <td>1.0</td>\n",
       "      <td>3.5</td>\n",
       "      <td>4.0</td>\n",
       "      <td>4.5</td>\n",
       "      <td>5.0</td>\n",
       "    </tr>\n",
       "    <tr>\n",
       "      <th>paid-multilingual</th>\n",
       "      <td>437.0</td>\n",
       "      <td>4.068650</td>\n",
       "      <td>0.733285</td>\n",
       "      <td>1.0</td>\n",
       "      <td>4.0</td>\n",
       "      <td>4.5</td>\n",
       "      <td>4.5</td>\n",
       "      <td>5.0</td>\n",
       "    </tr>\n",
       "  </tbody>\n",
       "</table>\n",
       "</div>"
      ],
      "text/plain": [
       "                    count      mean       std  min  25%  50%  75%  max\n",
       "price_language                                                        \n",
       "free-monolingual   4262.0  4.053965  0.783632  1.0  3.5  4.5  4.5  5.0\n",
       "free-multilingual  2063.0  4.106883  0.659991  1.0  4.0  4.5  4.5  5.0\n",
       "paid-monolingual    799.0  3.974969  0.798651  1.0  3.5  4.0  4.5  5.0\n",
       "paid-multilingual   437.0  4.068650  0.733285  1.0  4.0  4.5  4.5  5.0"
      ]
     },
     "execution_count": 31,
     "metadata": {},
     "output_type": "execute_result"
    }
   ],
   "source": [
    "games.groupby('price_language')['average_user_rating'].describe()"
   ]
  },
  {
   "cell_type": "code",
   "execution_count": null,
   "metadata": {},
   "outputs": [],
   "source": []
  },
  {
   "cell_type": "code",
   "execution_count": null,
   "metadata": {},
   "outputs": [],
   "source": []
  },
  {
   "cell_type": "code",
   "execution_count": null,
   "metadata": {},
   "outputs": [],
   "source": []
  },
  {
   "cell_type": "code",
   "execution_count": null,
   "metadata": {},
   "outputs": [],
   "source": []
  }
 ],
 "metadata": {
  "kernelspec": {
   "display_name": "Python 3",
   "language": "python",
   "name": "python3"
  },
  "language_info": {
   "codemirror_mode": {
    "name": "ipython",
    "version": 3
   },
   "file_extension": ".py",
   "mimetype": "text/x-python",
   "name": "python",
   "nbconvert_exporter": "python",
   "pygments_lexer": "ipython3",
   "version": "3.7.5"
  }
 },
 "nbformat": 4,
 "nbformat_minor": 2
}
