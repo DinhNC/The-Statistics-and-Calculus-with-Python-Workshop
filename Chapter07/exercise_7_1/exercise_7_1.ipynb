{
 "cells": [
  {
   "cell_type": "code",
   "execution_count": 1,
   "metadata": {},
   "outputs": [],
   "source": [
    "import pandas as pd\n",
    "import numpy as np"
   ]
  },
  {
   "cell_type": "markdown",
   "metadata": {},
   "source": [
    "### Loading and preparing the games dataset"
   ]
  },
  {
   "cell_type": "code",
   "execution_count": 2,
   "metadata": {},
   "outputs": [],
   "source": [
    "games = pd.read_csv('../data/appstore_games.csv')\n",
    "\n",
    "original_colums_dict = {x: x.lower().replace(' ','_') for x in games.columns}\n",
    "\n",
    "games.rename(\n",
    "    columns = original_colums_dict,\n",
    "    inplace = True\n",
    ")\n",
    "\n",
    "games.set_index(\n",
    "    keys = 'id',\n",
    "    inplace = True\n",
    ")\n",
    "\n",
    "games.drop(\n",
    "    columns = ['url', 'icon_url'],\n",
    "    inplace = True\n",
    ")\n",
    "\n",
    "games['original_release_date'] = pd.to_datetime(games['original_release_date'])\n",
    "games['current_version_release_date'] = pd.to_datetime(games['current_version_release_date'])\n",
    "\n",
    "games = games.loc[games['average_user_rating'].notnull()]\n",
    "\n",
    "games = games.loc[games['user_rating_count'] >= 30]"
   ]
  },
  {
   "cell_type": "markdown",
   "metadata": {},
   "source": [
    "### 7.1.5 Exercise: further data preparation"
   ]
  },
  {
   "cell_type": "code",
   "execution_count": 3,
   "metadata": {},
   "outputs": [],
   "source": [
    "games2 = games.copy()"
   ]
  },
  {
   "cell_type": "code",
   "execution_count": 4,
   "metadata": {},
   "outputs": [
    {
     "data": {
      "text/plain": [
       "EN                                                    2544\n",
       "EN, ZH, ZH                                              92\n",
       "EN, ZH                                                  65\n",
       "EN, JA, ZH, ZH                                          44\n",
       "EN, JA, KO, ZH, ZH                                      43\n",
       "                                                      ... \n",
       "DA, NL, EN, FR, DE, IT, JA, KO, PT, RU, ZH, ES, SV       1\n",
       "EN, FR, PL, RU                                           1\n",
       "EN, RU, ZH, UK                                           1\n",
       "EN, FR, DE, IT, JA, KO, RU, ZH, ES, ZH                   1\n",
       "EN, FR, DE, IT, JA, PL, RU, ZH, ES, ZH, TR               1\n",
       "Name: languages, Length: 638, dtype: int64"
      ]
     },
     "execution_count": 4,
     "metadata": {},
     "output_type": "execute_result"
    }
   ],
   "source": [
    "games2['languages'].value_counts()"
   ]
  },
  {
   "cell_type": "code",
   "execution_count": null,
   "metadata": {},
   "outputs": [],
   "source": [
    "games2['languages'] = games2['languages'].fillna('EN')"
   ]
  },
  {
   "cell_type": "code",
   "execution_count": null,
   "metadata": {},
   "outputs": [],
   "source": [
    "games2['number_of_languages'] = games2['languages'].str.split(',').apply(lambda x: len(x))"
   ]
  },
  {
   "cell_type": "code",
   "execution_count": null,
   "metadata": {},
   "outputs": [],
   "source": [
    "games2['number_of_languages'].head()"
   ]
  },
  {
   "cell_type": "code",
   "execution_count": null,
   "metadata": {},
   "outputs": [],
   "source": []
  }
 ],
 "metadata": {
  "kernelspec": {
   "display_name": "Python 3",
   "language": "python",
   "name": "python3"
  },
  "language_info": {
   "codemirror_mode": {
    "name": "ipython",
    "version": 3
   },
   "file_extension": ".py",
   "mimetype": "text/x-python",
   "name": "python",
   "nbconvert_exporter": "python",
   "pygments_lexer": "ipython3",
   "version": "3.7.5"
  }
 },
 "nbformat": 4,
 "nbformat_minor": 2
}
