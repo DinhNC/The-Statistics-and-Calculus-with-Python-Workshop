{
 "cells": [
  {
   "cell_type": "code",
   "execution_count": 3,
   "metadata": {},
   "outputs": [],
   "source": [
    "import pandas as pd\n",
    "import numpy as np"
   ]
  },
  {
   "cell_type": "markdown",
   "metadata": {},
   "source": [
    "### Loading and preparing the games dataset"
   ]
  },
  {
   "cell_type": "code",
   "execution_count": 4,
   "metadata": {},
   "outputs": [],
   "source": [
    "games = pd.read_csv('../data/appstore_games.csv')\n",
    "\n",
    "original_colums_dict = {x: x.lower().replace(' ','_') for x in games.columns}\n",
    "\n",
    "games.rename(\n",
    "    columns = original_colums_dict,\n",
    "    inplace = True\n",
    ")\n",
    "\n",
    "games.set_index(\n",
    "    keys = 'id',\n",
    "    inplace = True\n",
    ")\n",
    "\n",
    "games.drop(\n",
    "    columns = ['url', 'icon_url'],\n",
    "    inplace = True\n",
    ")\n",
    "\n",
    "games['original_release_date'] = pd.to_datetime(games['original_release_date'])\n",
    "games['current_version_release_date'] = pd.to_datetime(games['current_version_release_date'])\n",
    "\n",
    "games = games.loc[games['average_user_rating'].notnull()]\n",
    "\n",
    "games = games.loc[games['user_rating_count'] >= 30]"
   ]
  },
  {
   "cell_type": "markdown",
   "metadata": {},
   "source": [
    "### 7.1.5 Exercise: further data preparation"
   ]
  },
  {
   "cell_type": "code",
   "execution_count": 64,
   "metadata": {},
   "outputs": [],
   "source": [
    "games2 = games.copy()"
   ]
  },
  {
   "cell_type": "code",
   "execution_count": 65,
   "metadata": {},
   "outputs": [
    {
     "data": {
      "text/plain": [
       "id\n",
       "284921427    DA, NL, EN, FI, FR, DE, IT, JA, KO, NB, PL, PT...\n",
       "284926400                                                   EN\n",
       "284946595                                                   EN\n",
       "285755462    DA, NL, EN, FI, FR, DE, IT, JA, KO, NB, PL, PT...\n",
       "286210009                                                   EN\n",
       "Name: languages, dtype: object"
      ]
     },
     "execution_count": 65,
     "metadata": {},
     "output_type": "execute_result"
    }
   ],
   "source": [
    "games2['languages'].head()"
   ]
  },
  {
   "cell_type": "code",
   "execution_count": 66,
   "metadata": {},
   "outputs": [],
   "source": [
    "games2['languages'] = games2['languages'].fillna('EN')"
   ]
  },
  {
   "cell_type": "code",
   "execution_count": 59,
   "metadata": {},
   "outputs": [],
   "source": [
    "list_of_languages = games2['languages'].str.split(',')"
   ]
  },
  {
   "cell_type": "code",
   "execution_count": 61,
   "metadata": {},
   "outputs": [],
   "source": [
    "games2['n_languages'] = list_of_languages.apply(lambda x: len(x))"
   ]
  },
  {
   "cell_type": "code",
   "execution_count": 63,
   "metadata": {},
   "outputs": [
    {
     "data": {
      "text/plain": [
       "id\n",
       "284921427    17\n",
       "284926400     1\n",
       "284946595     1\n",
       "285755462    17\n",
       "286210009     1\n",
       "286313771     1\n",
       "286363959     1\n",
       "286566987     1\n",
       "286682679     1\n",
       "288096268     1\n",
       "Name: n_languages, dtype: int64"
      ]
     },
     "execution_count": 63,
     "metadata": {},
     "output_type": "execute_result"
    }
   ],
   "source": [
    "games2['n_languages'].head(10)"
   ]
  },
  {
   "cell_type": "code",
   "execution_count": null,
   "metadata": {},
   "outputs": [],
   "source": []
  },
  {
   "cell_type": "code",
   "execution_count": null,
   "metadata": {},
   "outputs": [],
   "source": []
  }
 ],
 "metadata": {
  "kernelspec": {
   "display_name": "Python 3",
   "language": "python",
   "name": "python3"
  },
  "language_info": {
   "codemirror_mode": {
    "name": "ipython",
    "version": 3
   },
   "file_extension": ".py",
   "mimetype": "text/x-python",
   "name": "python",
   "nbconvert_exporter": "python",
   "pygments_lexer": "ipython3",
   "version": "3.7.5"
  }
 },
 "nbformat": 4,
 "nbformat_minor": 2
}
