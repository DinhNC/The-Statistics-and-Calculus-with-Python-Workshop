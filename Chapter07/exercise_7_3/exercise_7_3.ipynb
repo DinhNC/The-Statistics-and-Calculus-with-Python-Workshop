{
 "cells": [
  {
   "cell_type": "code",
   "execution_count": 2,
   "metadata": {},
   "outputs": [],
   "source": [
    "import pandas as pd\n",
    "import numpy as np\n",
    "# uncomment to see plots\n",
    "#import matplotlib.pyplot as plt\n",
    "#import seaborn as sns\n",
    "\n",
    "#%matplotlib inline"
   ]
  },
  {
   "cell_type": "markdown",
   "metadata": {},
   "source": [
    "### Loading and preparing the games dataset"
   ]
  },
  {
   "cell_type": "code",
   "execution_count": 3,
   "metadata": {},
   "outputs": [],
   "source": [
    "games = pd.read_csv('../data/appstore_games.csv')\n",
    "\n",
    "original_colums_dict = {x: x.lower().replace(' ','_') for x in games.columns}\n",
    "\n",
    "games.rename(\n",
    "    columns = original_colums_dict,\n",
    "    inplace = True\n",
    ")\n",
    "\n",
    "games.set_index(\n",
    "    keys = 'id',\n",
    "    inplace = True\n",
    ")\n",
    "\n",
    "games.drop(\n",
    "    columns = ['url', 'icon_url'],\n",
    "    inplace = True\n",
    ")\n",
    "\n",
    "games['original_release_date'] = pd.to_datetime(games['original_release_date'])\n",
    "games['current_version_release_date'] = pd.to_datetime(games['current_version_release_date'])\n",
    "\n",
    "games = games.loc[games['average_user_rating'].notnull()]\n",
    "\n",
    "games = games.loc[games['user_rating_count'] >= 30]\n",
    "\n",
    "# These come from section 7.3\n",
    "games['size'] = games['size']/1e6\n",
    "\n",
    "ratings_mapping = {\n",
    "    1.5: '1_poor',\n",
    "    2.: '1_poor',\n",
    "    2.5: '1_poor',\n",
    "    3.: '1_poor',\n",
    "    3.5: '2_fair',\n",
    "    4. : '2_fair',\n",
    "    4.5: '3_good',\n",
    "    5. : '4_excellent'\n",
    "}\n",
    "\n",
    "games['cat_rating'] = games['average_user_rating'].map(ratings_mapping)"
   ]
  },
  {
   "cell_type": "markdown",
   "metadata": {},
   "source": [
    "### 7.3.5 Exercise: practicing EDA"
   ]
  },
  {
   "cell_type": "code",
   "execution_count": 4,
   "metadata": {
    "scrolled": true
   },
   "outputs": [
    {
     "data": {
      "text/plain": [
       "array([  2.99,   1.99,   0.  ,   0.99,   5.99,   7.99,   4.99,   3.99,\n",
       "         9.99,  19.99,   6.99,  11.99,   8.99, 139.99,  14.99,  59.99])"
      ]
     },
     "execution_count": 4,
     "metadata": {},
     "output_type": "execute_result"
    }
   ],
   "source": [
    "games['price'].unique()"
   ]
  },
  {
   "cell_type": "code",
   "execution_count": 5,
   "metadata": {},
   "outputs": [],
   "source": [
    "games['price'] = games['price'].round()"
   ]
  },
  {
   "cell_type": "code",
   "execution_count": null,
   "metadata": {},
   "outputs": [],
   "source": [
    "# uncomment to see plot\n",
    "# games['price'].value_counts().sort_index().plot(kind='bar');"
   ]
  },
  {
   "cell_type": "code",
   "execution_count": 6,
   "metadata": {},
   "outputs": [],
   "source": [
    "games['cat_price'] = (games['price'] == 0).astype(int).map({0:'paid', 1:'free'})"
   ]
  },
  {
   "cell_type": "code",
   "execution_count": null,
   "metadata": {},
   "outputs": [],
   "source": [
    "# uncomment to see plot\n",
    "#sns.boxplot(\n",
    "#    x='cat_price',\n",
    "#    y='average_user_rating',\n",
    "#    data=games\n",
    "#);"
   ]
  },
  {
   "cell_type": "code",
   "execution_count": null,
   "metadata": {},
   "outputs": [],
   "source": []
  }
 ],
 "metadata": {
  "kernelspec": {
   "display_name": "Python 3",
   "language": "python",
   "name": "python3"
  },
  "language_info": {
   "codemirror_mode": {
    "name": "ipython",
    "version": 3
   },
   "file_extension": ".py",
   "mimetype": "text/x-python",
   "name": "python",
   "nbconvert_exporter": "python",
   "pygments_lexer": "ipython3",
   "version": "3.7.5"
  }
 },
 "nbformat": 4,
 "nbformat_minor": 2
}
