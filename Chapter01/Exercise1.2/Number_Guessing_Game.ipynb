{
 "cells": [
  {
   "cell_type": "code",
   "execution_count": 4,
   "metadata": {},
   "outputs": [
    {
     "name": "stdout",
     "output_type": "stream",
     "text": [
      "Enter your guess: 3\n",
      "Higher.\n",
      "Enter your guess: 1\n",
      "Higher.\n",
      "Enter your guess: 4\n",
      "Higher.\n",
      "Enter your guess: 5\n",
      "Congratulations! You guessed correctly.\n"
     ]
    }
   ],
   "source": [
    "import random\n",
    "\n",
    "true_value = random.randint(0, 10)\n",
    "\n",
    "while True:\n",
    "    guess = input('Enter your guess: ')\n",
    "\n",
    "    try:\n",
    "        guess = int(guess)\n",
    "\n",
    "        if guess == true_value:\n",
    "            print('Congratulations! You guessed correctly.')\n",
    "            break\n",
    "        elif guess > true_value:\n",
    "            print('Lower.')  # user guessed too high\n",
    "        else:\n",
    "            print('Higher.')  # user guessed too low\n",
    "\n",
    "    # when the input is invalid\n",
    "    except ValueError:\n",
    "        print('Please enter a valid number.')"
   ]
  },
  {
   "cell_type": "code",
   "execution_count": null,
   "metadata": {},
   "outputs": [],
   "source": []
  }
 ],
 "metadata": {
  "kernelspec": {
   "display_name": "Python 3",
   "language": "python",
   "name": "python3"
  },
  "language_info": {
   "codemirror_mode": {
    "name": "ipython",
    "version": 3
   },
   "file_extension": ".py",
   "mimetype": "text/x-python",
   "name": "python",
   "nbconvert_exporter": "python",
   "pygments_lexer": "ipython3",
   "version": "3.7.4"
  }
 },
 "nbformat": 4,
 "nbformat_minor": 2
}
