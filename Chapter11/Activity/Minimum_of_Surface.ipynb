{
 "cells": [
  {
   "cell_type": "code",
   "execution_count": 2,
   "metadata": {},
   "outputs": [
    {
     "name": "stdout",
     "output_type": "stream",
     "text": [
      "4.06 2.07 4.07\n",
      "Minimum: 3.39 0.0 -19.34\n",
      "0.03 2.91 2.86\n",
      "Minimum: 1.1 3.14 -1.13\n",
      "2.43 -0.07 -11.45\n",
      "Minimum: 3.39 -0.0 -19.34\n",
      "1.6 2.65 0.11\n",
      "Minimum: 1.1 3.14 -1.13\n",
      "2.11 4.49 -0.36\n",
      "Out of Bounds\n",
      "4.69 4.01 0.3\n",
      "Out of Bounds\n",
      "1.33 2.86 -0.81\n",
      "Minimum: 1.1 3.14 -1.13\n",
      "1.48 0.0 0.94\n",
      "Minimum: 3.39 -0.0 -19.34\n",
      "4.85 3.63 -2.57\n",
      "Out of Bounds\n",
      "-0.44 -0.39 0.88\n",
      "Out of Bounds\n"
     ]
    }
   ],
   "source": [
    "import random\n",
    "import numpy\n",
    "from math import sin, cos,sqrt,pi\n",
    "\n",
    "def surface(x,y):\n",
    "    return 3*numpy.cos(x)+5*x*numpy.cos(x)*numpy.cos(y)\n",
    "\n",
    "    \n",
    "def partial_d(f,u,v,w):\n",
    "    \"\"\"returns the partial derivative of f\n",
    "    with respect to u at (v,w)\"\"\"\n",
    "    delta_u = 1/100000\n",
    "    try:\n",
    "        if u == 'x':\n",
    "            return (f(v+delta_u,w) - f(v,w))/delta_u\n",
    "        else:\n",
    "            return (f(v,w+delta_u) - f(v,w))/delta_u\n",
    "    except ValueError:\n",
    "        pass\n",
    "\n",
    "def min_of_surface(f,a,b,c,d,step = 0.01):\n",
    "    x,y = random.uniform(a,b),random.uniform(c,d)\n",
    "    print(round(x,2),round(y,2),round(f(x,y),2))\n",
    "    for i in range(100000):\n",
    "        dz_dx = partial_d(f,'x',x,y)\n",
    "        dz_dy = partial_d(f,'y',x,y)\n",
    "        if abs(dz_dx) < 0.001 and abs(dz_dy) < 0.001:\n",
    "            print(\"Minimum:\",round(x,2),round(y,2),round(f(x,y),2))\n",
    "            break\n",
    "        x -= dz_dx*step\n",
    "        y -= dz_dy*step\n",
    "        if x < a or x > b or y < c or y > d:\n",
    "            print(\"Out of Bounds\")\n",
    "            break\n",
    "    \n",
    "\n",
    "for i in range(10):\n",
    "    min_of_surface(surface,-1,5,-1,5)"
   ]
  },
  {
   "cell_type": "code",
   "execution_count": null,
   "metadata": {},
   "outputs": [],
   "source": []
  }
 ],
 "metadata": {
  "kernelspec": {
   "display_name": "Python 3",
   "language": "python",
   "name": "python3"
  },
  "language_info": {
   "codemirror_mode": {
    "name": "ipython",
    "version": 3
   },
   "file_extension": ".py",
   "mimetype": "text/x-python",
   "name": "python",
   "nbconvert_exporter": "python",
   "pygments_lexer": "ipython3",
   "version": "3.7.3"
  }
 },
 "nbformat": 4,
 "nbformat_minor": 2
}
